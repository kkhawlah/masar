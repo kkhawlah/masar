{
  "nbformat": 4,
  "nbformat_minor": 0,
  "metadata": {
    "colab": {
      "provenance": [],
      "authorship_tag": "ABX9TyMyMvL5d/YcN/zdhEmpuNDb",
      "include_colab_link": true
    },
    "kernelspec": {
      "name": "python3",
      "display_name": "Python 3"
    },
    "language_info": {
      "name": "python"
    }
  },
  "cells": [
    {
      "cell_type": "markdown",
      "metadata": {
        "id": "view-in-github",
        "colab_type": "text"
      },
      "source": [
        "<a href=\"https://colab.research.google.com/github/kkhawlah/masar/blob/main/Python_HW_1%E2%80%8F.ipynb\" target=\"_parent\"><img src=\"https://colab.research.google.com/assets/colab-badge.svg\" alt=\"Open In Colab\"/></a>"
      ]
    },
    {
      "cell_type": "code",
      "execution_count": 3,
      "metadata": {
        "colab": {
          "base_uri": "https://localhost:8080/"
        },
        "id": "Kr9bpe8f6NAC",
        "outputId": "695c1809-db90-4ca8-c32c-05ad11dfc330"
      },
      "outputs": [
        {
          "output_type": "stream",
          "name": "stdout",
          "text": [
            "Hello everyone my name is  khawlah and my age is  24\n"
          ]
        }
      ],
      "source": [
        "# assign x as my name in a string form\n",
        "x = \"khawlah\"\n",
        "\n",
        "# assign y as my age\n",
        "y = 24\n",
        "\n",
        "# print\n",
        "print(\"Hello everyone my name is \", x , \"and my age is \", y)"
      ]
    }
  ]
}